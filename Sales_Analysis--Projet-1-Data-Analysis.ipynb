{
 "cells": [
  {
   "cell_type": "code",
   "execution_count": 5,
   "id": "e980199f",
   "metadata": {},
   "outputs": [],
   "source": [
    "#import Packages\n",
    "import os \n",
    "import pandas as pd\n",
    "import matplotlib.pyplot as plt\n",
    "import seaborn as sns"
   ]
  },
  {
   "cell_type": "code",
   "execution_count": 2,
   "id": "d309b313",
   "metadata": {},
   "outputs": [],
   "source": [
    "#Collecter Data\n",
    "files = [file for file in os.listdir(r'C:\\Users\\khalid\\Desktop\\ETUDES\\Data_Analysis_Projects\\Data-Analysis-with-Python\\Sales_Analysis\\data-sales')]"
   ]
  },
  {
   "cell_type": "code",
   "execution_count": 14,
   "id": "633cfe8d",
   "metadata": {},
   "outputs": [
    {
     "data": {
      "text/plain": [
       "'.git'"
      ]
     },
     "execution_count": 14,
     "metadata": {},
     "output_type": "execute_result"
    }
   ],
   "source": [
    "files.pop(0)"
   ]
  },
  {
   "cell_type": "code",
   "execution_count": 15,
   "id": "c758891e",
   "metadata": {},
   "outputs": [
    {
     "name": "stdout",
     "output_type": "stream",
     "text": [
      "Sales_April_2019.csv\n",
      "Sales_August_2019.csv\n",
      "Sales_December_2019.csv\n",
      "Sales_February_2019.csv\n",
      "Sales_January_2019.csv\n",
      "Sales_July_2019.csv\n",
      "Sales_June_2019.csv\n",
      "Sales_March_2019.csv\n",
      "Sales_May_2019.csv\n",
      "Sales_November_2019.csv\n",
      "Sales_October_2019.csv\n",
      "Sales_September_2019.csv\n"
     ]
    }
   ],
   "source": [
    "for file in files:\n",
    "    print(file)\n"
   ]
  },
  {
   "cell_type": "code",
   "execution_count": 128,
   "id": "d9b3f70d",
   "metadata": {},
   "outputs": [
    {
     "name": "stdout",
     "output_type": "stream",
     "text": [
      "      Order ID                     Product Quantity Ordered Price Each  \\\n",
      "0       176558        USB-C Charging Cable                2      11.95   \n",
      "1          NaN                         NaN              NaN        NaN   \n",
      "2       176559  Bose SoundSport Headphones                1      99.99   \n",
      "3       176560                Google Phone                1        600   \n",
      "4       176560            Wired Headphones                1      11.99   \n",
      "...        ...                         ...              ...        ...   \n",
      "11681   259353      AAA Batteries (4-pack)                3       2.99   \n",
      "11682   259354                      iPhone                1        700   \n",
      "11683   259355                      iPhone                1        700   \n",
      "11684   259356      34in Ultrawide Monitor                1     379.99   \n",
      "11685   259357        USB-C Charging Cable                1      11.95   \n",
      "\n",
      "           Order Date                         Purchase Address  \n",
      "0      04/19/19 08:46             917 1st St, Dallas, TX 75001  \n",
      "1                 NaN                                      NaN  \n",
      "2      04/07/19 22:30        682 Chestnut St, Boston, MA 02215  \n",
      "3      04/12/19 14:38     669 Spruce St, Los Angeles, CA 90001  \n",
      "4      04/12/19 14:38     669 Spruce St, Los Angeles, CA 90001  \n",
      "...               ...                                      ...  \n",
      "11681  09/17/19 20:56   840 Highland St, Los Angeles, CA 90001  \n",
      "11682  09/01/19 16:00  216 Dogwood St, San Francisco, CA 94016  \n",
      "11683  09/23/19 07:39     220 12th St, San Francisco, CA 94016  \n",
      "11684  09/19/19 17:30   511 Forest St, San Francisco, CA 94016  \n",
      "11685  09/30/19 00:18   250 Meadow St, San Francisco, CA 94016  \n",
      "\n",
      "[186850 rows x 6 columns]\n"
     ]
    }
   ],
   "source": [
    "df = pd.DataFrame()\n",
    "path ='C:/Users/khalid/Desktop/ETUDES/Data_Analysis_Projects/Data-Analysis-with-Python/Sales_Analysis/data-sales'\n",
    "for file in files:\n",
    "    curent_data = pd.read_csv(path+'/'+file)\n",
    "    df = pd.concat([df,curent_data])\n",
    "    \n",
    "print(df)"
   ]
  },
  {
   "cell_type": "code",
   "execution_count": 129,
   "id": "b5394eab",
   "metadata": {},
   "outputs": [
    {
     "data": {
      "text/html": [
       "<div>\n",
       "<style scoped>\n",
       "    .dataframe tbody tr th:only-of-type {\n",
       "        vertical-align: middle;\n",
       "    }\n",
       "\n",
       "    .dataframe tbody tr th {\n",
       "        vertical-align: top;\n",
       "    }\n",
       "\n",
       "    .dataframe thead th {\n",
       "        text-align: right;\n",
       "    }\n",
       "</style>\n",
       "<table border=\"1\" class=\"dataframe\">\n",
       "  <thead>\n",
       "    <tr style=\"text-align: right;\">\n",
       "      <th></th>\n",
       "      <th>Order ID</th>\n",
       "      <th>Product</th>\n",
       "      <th>Quantity Ordered</th>\n",
       "      <th>Price Each</th>\n",
       "      <th>Order Date</th>\n",
       "      <th>Purchase Address</th>\n",
       "    </tr>\n",
       "  </thead>\n",
       "  <tbody>\n",
       "    <tr>\n",
       "      <th>0</th>\n",
       "      <td>141234</td>\n",
       "      <td>iPhone</td>\n",
       "      <td>1</td>\n",
       "      <td>700</td>\n",
       "      <td>01/22/19 21:25</td>\n",
       "      <td>944 Walnut St, Boston, MA 02215</td>\n",
       "    </tr>\n",
       "    <tr>\n",
       "      <th>1</th>\n",
       "      <td>141235</td>\n",
       "      <td>Lightning Charging Cable</td>\n",
       "      <td>1</td>\n",
       "      <td>14.95</td>\n",
       "      <td>01/28/19 14:15</td>\n",
       "      <td>185 Maple St, Portland, OR 97035</td>\n",
       "    </tr>\n",
       "    <tr>\n",
       "      <th>2</th>\n",
       "      <td>141236</td>\n",
       "      <td>Wired Headphones</td>\n",
       "      <td>2</td>\n",
       "      <td>11.99</td>\n",
       "      <td>01/17/19 13:33</td>\n",
       "      <td>538 Adams St, San Francisco, CA 94016</td>\n",
       "    </tr>\n",
       "    <tr>\n",
       "      <th>3</th>\n",
       "      <td>141237</td>\n",
       "      <td>27in FHD Monitor</td>\n",
       "      <td>1</td>\n",
       "      <td>149.99</td>\n",
       "      <td>01/05/19 20:33</td>\n",
       "      <td>738 10th St, Los Angeles, CA 90001</td>\n",
       "    </tr>\n",
       "    <tr>\n",
       "      <th>4</th>\n",
       "      <td>141238</td>\n",
       "      <td>Wired Headphones</td>\n",
       "      <td>1</td>\n",
       "      <td>11.99</td>\n",
       "      <td>01/25/19 11:59</td>\n",
       "      <td>387 10th St, Austin, TX 73301</td>\n",
       "    </tr>\n",
       "    <tr>\n",
       "      <th>...</th>\n",
       "      <td>...</td>\n",
       "      <td>...</td>\n",
       "      <td>...</td>\n",
       "      <td>...</td>\n",
       "      <td>...</td>\n",
       "      <td>...</td>\n",
       "    </tr>\n",
       "    <tr>\n",
       "      <th>9718</th>\n",
       "      <td>150497</td>\n",
       "      <td>20in Monitor</td>\n",
       "      <td>1</td>\n",
       "      <td>109.99</td>\n",
       "      <td>01/26/19 19:09</td>\n",
       "      <td>95 8th St, Dallas, TX 75001</td>\n",
       "    </tr>\n",
       "    <tr>\n",
       "      <th>9719</th>\n",
       "      <td>150498</td>\n",
       "      <td>27in FHD Monitor</td>\n",
       "      <td>1</td>\n",
       "      <td>149.99</td>\n",
       "      <td>01/10/19 22:58</td>\n",
       "      <td>403 7th St, San Francisco, CA 94016</td>\n",
       "    </tr>\n",
       "    <tr>\n",
       "      <th>9720</th>\n",
       "      <td>150499</td>\n",
       "      <td>ThinkPad Laptop</td>\n",
       "      <td>1</td>\n",
       "      <td>999.99</td>\n",
       "      <td>01/21/19 14:31</td>\n",
       "      <td>214 Main St, Portland, OR 97035</td>\n",
       "    </tr>\n",
       "    <tr>\n",
       "      <th>9721</th>\n",
       "      <td>150500</td>\n",
       "      <td>AAA Batteries (4-pack)</td>\n",
       "      <td>2</td>\n",
       "      <td>2.99</td>\n",
       "      <td>01/15/19 14:21</td>\n",
       "      <td>810 2nd St, Los Angeles, CA 90001</td>\n",
       "    </tr>\n",
       "    <tr>\n",
       "      <th>9722</th>\n",
       "      <td>150501</td>\n",
       "      <td>Google Phone</td>\n",
       "      <td>1</td>\n",
       "      <td>600</td>\n",
       "      <td>01/13/19 16:43</td>\n",
       "      <td>428 Cedar St, Boston, MA 02215</td>\n",
       "    </tr>\n",
       "  </tbody>\n",
       "</table>\n",
       "<p>9723 rows × 6 columns</p>\n",
       "</div>"
      ],
      "text/plain": [
       "     Order ID                   Product Quantity Ordered Price Each  \\\n",
       "0      141234                    iPhone                1        700   \n",
       "1      141235  Lightning Charging Cable                1      14.95   \n",
       "2      141236          Wired Headphones                2      11.99   \n",
       "3      141237          27in FHD Monitor                1     149.99   \n",
       "4      141238          Wired Headphones                1      11.99   \n",
       "...       ...                       ...              ...        ...   \n",
       "9718   150497              20in Monitor                1     109.99   \n",
       "9719   150498          27in FHD Monitor                1     149.99   \n",
       "9720   150499           ThinkPad Laptop                1     999.99   \n",
       "9721   150500    AAA Batteries (4-pack)                2       2.99   \n",
       "9722   150501              Google Phone                1        600   \n",
       "\n",
       "          Order Date                       Purchase Address  \n",
       "0     01/22/19 21:25        944 Walnut St, Boston, MA 02215  \n",
       "1     01/28/19 14:15       185 Maple St, Portland, OR 97035  \n",
       "2     01/17/19 13:33  538 Adams St, San Francisco, CA 94016  \n",
       "3     01/05/19 20:33     738 10th St, Los Angeles, CA 90001  \n",
       "4     01/25/19 11:59          387 10th St, Austin, TX 73301  \n",
       "...              ...                                    ...  \n",
       "9718  01/26/19 19:09            95 8th St, Dallas, TX 75001  \n",
       "9719  01/10/19 22:58    403 7th St, San Francisco, CA 94016  \n",
       "9720  01/21/19 14:31        214 Main St, Portland, OR 97035  \n",
       "9721  01/15/19 14:21      810 2nd St, Los Angeles, CA 90001  \n",
       "9722  01/13/19 16:43         428 Cedar St, Boston, MA 02215  \n",
       "\n",
       "[9723 rows x 6 columns]"
      ]
     },
     "execution_count": 129,
     "metadata": {},
     "output_type": "execute_result"
    }
   ],
   "source": [
    "df_junary= pd.read_csv(path+'/Sales_January_2019.csv')\n",
    "df_junary"
   ]
  },
  {
   "cell_type": "code",
   "execution_count": 130,
   "id": "cc29190d",
   "metadata": {},
   "outputs": [],
   "source": [
    "df.to_csv(path+'/all_data.csv',index=False)"
   ]
  },
  {
   "cell_type": "code",
   "execution_count": 131,
   "id": "522b7b6e",
   "metadata": {},
   "outputs": [
    {
     "data": {
      "text/plain": [
       "Order ID            object\n",
       "Product             object\n",
       "Quantity Ordered    object\n",
       "Price Each          object\n",
       "Order Date          object\n",
       "Purchase Address    object\n",
       "dtype: object"
      ]
     },
     "execution_count": 131,
     "metadata": {},
     "output_type": "execute_result"
    }
   ],
   "source": [
    "df.dtypes"
   ]
  },
  {
   "cell_type": "code",
   "execution_count": 132,
   "id": "20b3e243",
   "metadata": {},
   "outputs": [
    {
     "data": {
      "text/html": [
       "<div>\n",
       "<style scoped>\n",
       "    .dataframe tbody tr th:only-of-type {\n",
       "        vertical-align: middle;\n",
       "    }\n",
       "\n",
       "    .dataframe tbody tr th {\n",
       "        vertical-align: top;\n",
       "    }\n",
       "\n",
       "    .dataframe thead th {\n",
       "        text-align: right;\n",
       "    }\n",
       "</style>\n",
       "<table border=\"1\" class=\"dataframe\">\n",
       "  <thead>\n",
       "    <tr style=\"text-align: right;\">\n",
       "      <th></th>\n",
       "      <th>Order ID</th>\n",
       "      <th>Product</th>\n",
       "      <th>Quantity Ordered</th>\n",
       "      <th>Price Each</th>\n",
       "      <th>Order Date</th>\n",
       "      <th>Purchase Address</th>\n",
       "    </tr>\n",
       "  </thead>\n",
       "  <tbody>\n",
       "    <tr>\n",
       "      <th>0</th>\n",
       "      <td>176558</td>\n",
       "      <td>USB-C Charging Cable</td>\n",
       "      <td>2</td>\n",
       "      <td>11.95</td>\n",
       "      <td>04/19/19 08:46</td>\n",
       "      <td>917 1st St, Dallas, TX 75001</td>\n",
       "    </tr>\n",
       "    <tr>\n",
       "      <th>1</th>\n",
       "      <td>NaN</td>\n",
       "      <td>NaN</td>\n",
       "      <td>NaN</td>\n",
       "      <td>NaN</td>\n",
       "      <td>NaN</td>\n",
       "      <td>NaN</td>\n",
       "    </tr>\n",
       "    <tr>\n",
       "      <th>2</th>\n",
       "      <td>176559</td>\n",
       "      <td>Bose SoundSport Headphones</td>\n",
       "      <td>1</td>\n",
       "      <td>99.99</td>\n",
       "      <td>04/07/19 22:30</td>\n",
       "      <td>682 Chestnut St, Boston, MA 02215</td>\n",
       "    </tr>\n",
       "    <tr>\n",
       "      <th>3</th>\n",
       "      <td>176560</td>\n",
       "      <td>Google Phone</td>\n",
       "      <td>1</td>\n",
       "      <td>600</td>\n",
       "      <td>04/12/19 14:38</td>\n",
       "      <td>669 Spruce St, Los Angeles, CA 90001</td>\n",
       "    </tr>\n",
       "    <tr>\n",
       "      <th>4</th>\n",
       "      <td>176560</td>\n",
       "      <td>Wired Headphones</td>\n",
       "      <td>1</td>\n",
       "      <td>11.99</td>\n",
       "      <td>04/12/19 14:38</td>\n",
       "      <td>669 Spruce St, Los Angeles, CA 90001</td>\n",
       "    </tr>\n",
       "  </tbody>\n",
       "</table>\n",
       "</div>"
      ],
      "text/plain": [
       "  Order ID                     Product Quantity Ordered Price Each  \\\n",
       "0   176558        USB-C Charging Cable                2      11.95   \n",
       "1      NaN                         NaN              NaN        NaN   \n",
       "2   176559  Bose SoundSport Headphones                1      99.99   \n",
       "3   176560                Google Phone                1        600   \n",
       "4   176560            Wired Headphones                1      11.99   \n",
       "\n",
       "       Order Date                      Purchase Address  \n",
       "0  04/19/19 08:46          917 1st St, Dallas, TX 75001  \n",
       "1             NaN                                   NaN  \n",
       "2  04/07/19 22:30     682 Chestnut St, Boston, MA 02215  \n",
       "3  04/12/19 14:38  669 Spruce St, Los Angeles, CA 90001  \n",
       "4  04/12/19 14:38  669 Spruce St, Los Angeles, CA 90001  "
      ]
     },
     "execution_count": 132,
     "metadata": {},
     "output_type": "execute_result"
    }
   ],
   "source": [
    "df.head()"
   ]
  },
  {
   "cell_type": "code",
   "execution_count": 133,
   "id": "0e0f8202",
   "metadata": {},
   "outputs": [
    {
     "data": {
      "text/plain": [
       "Order ID            545\n",
       "Product             545\n",
       "Quantity Ordered    545\n",
       "Price Each          545\n",
       "Order Date          545\n",
       "Purchase Address    545\n",
       "dtype: int64"
      ]
     },
     "execution_count": 133,
     "metadata": {},
     "output_type": "execute_result"
    }
   ],
   "source": [
    "df.isnull().sum()"
   ]
  },
  {
   "cell_type": "code",
   "execution_count": 134,
   "id": "5f3a6d6e",
   "metadata": {},
   "outputs": [
    {
     "data": {
      "text/plain": [
       "(186305, 6)"
      ]
     },
     "execution_count": 134,
     "metadata": {},
     "output_type": "execute_result"
    }
   ],
   "source": [
    "#Delete missing values\n",
    "df =df.dropna(how='all')\n",
    "df.shape"
   ]
  },
  {
   "cell_type": "markdown",
   "id": "24108f4c",
   "metadata": {},
   "source": [
    "## ***1- Quel est le mois durant lequel nous avons realisé le meilleur Chiffre d'Affaire***"
   ]
  },
  {
   "cell_type": "code",
   "execution_count": 135,
   "id": "277897e4",
   "metadata": {},
   "outputs": [
    {
     "data": {
      "text/plain": [
       "'04'"
      ]
     },
     "execution_count": 135,
     "metadata": {},
     "output_type": "execute_result"
    }
   ],
   "source": [
    "def month(x):\n",
    "    return x.split('/')[0]\n",
    "\n",
    "month('04/19/19 08:46')"
   ]
  },
  {
   "cell_type": "code",
   "execution_count": 136,
   "id": "2ddeb565",
   "metadata": {},
   "outputs": [],
   "source": [
    "df['month']=df['Order Date'].apply(month)"
   ]
  },
  {
   "cell_type": "code",
   "execution_count": 137,
   "id": "2eb69507",
   "metadata": {},
   "outputs": [
    {
     "data": {
      "text/plain": [
       "array(['04', '05', 'Order Date', '08', '09', '12', '01', '02', '03', '07',\n",
       "       '06', '11', '10'], dtype=object)"
      ]
     },
     "execution_count": 137,
     "metadata": {},
     "output_type": "execute_result"
    }
   ],
   "source": [
    "df['month'].unique()"
   ]
  },
  {
   "cell_type": "code",
   "execution_count": 138,
   "id": "bc56466e",
   "metadata": {},
   "outputs": [],
   "source": [
    "df=df[df['month']!='Order Date']"
   ]
  },
  {
   "cell_type": "code",
   "execution_count": 139,
   "id": "6e6de9ef",
   "metadata": {},
   "outputs": [
    {
     "data": {
      "text/plain": [
       "(185950, 7)"
      ]
     },
     "execution_count": 139,
     "metadata": {},
     "output_type": "execute_result"
    }
   ],
   "source": [
    "df.shape"
   ]
  },
  {
   "cell_type": "code",
   "execution_count": 140,
   "id": "d88e47a2",
   "metadata": {},
   "outputs": [
    {
     "data": {
      "text/plain": [
       "Order ID            object\n",
       "Product             object\n",
       "Quantity Ordered    object\n",
       "Price Each          object\n",
       "Order Date          object\n",
       "Purchase Address    object\n",
       "month               object\n",
       "dtype: object"
      ]
     },
     "execution_count": 140,
     "metadata": {},
     "output_type": "execute_result"
    }
   ],
   "source": [
    "df.dtypes"
   ]
  },
  {
   "cell_type": "code",
   "execution_count": 141,
   "id": "95a0083b",
   "metadata": {},
   "outputs": [],
   "source": [
    "df['month']= df['month'].astype(int)\n",
    "df['Quantity Ordered']=df['Quantity Ordered'].astype('int')\n",
    "df['Price Each']=df['Price Each'].astype('float')"
   ]
  },
  {
   "cell_type": "code",
   "execution_count": 142,
   "id": "36206cdf",
   "metadata": {},
   "outputs": [
    {
     "data": {
      "text/html": [
       "<div>\n",
       "<style scoped>\n",
       "    .dataframe tbody tr th:only-of-type {\n",
       "        vertical-align: middle;\n",
       "    }\n",
       "\n",
       "    .dataframe tbody tr th {\n",
       "        vertical-align: top;\n",
       "    }\n",
       "\n",
       "    .dataframe thead th {\n",
       "        text-align: right;\n",
       "    }\n",
       "</style>\n",
       "<table border=\"1\" class=\"dataframe\">\n",
       "  <thead>\n",
       "    <tr style=\"text-align: right;\">\n",
       "      <th></th>\n",
       "      <th>Order ID</th>\n",
       "      <th>Product</th>\n",
       "      <th>Quantity Ordered</th>\n",
       "      <th>Price Each</th>\n",
       "      <th>Order Date</th>\n",
       "      <th>Purchase Address</th>\n",
       "      <th>month</th>\n",
       "      <th>Sales</th>\n",
       "    </tr>\n",
       "  </thead>\n",
       "  <tbody>\n",
       "    <tr>\n",
       "      <th>0</th>\n",
       "      <td>176558</td>\n",
       "      <td>USB-C Charging Cable</td>\n",
       "      <td>2</td>\n",
       "      <td>11.95</td>\n",
       "      <td>04/19/19 08:46</td>\n",
       "      <td>917 1st St, Dallas, TX 75001</td>\n",
       "      <td>4</td>\n",
       "      <td>23.90</td>\n",
       "    </tr>\n",
       "    <tr>\n",
       "      <th>2</th>\n",
       "      <td>176559</td>\n",
       "      <td>Bose SoundSport Headphones</td>\n",
       "      <td>1</td>\n",
       "      <td>99.99</td>\n",
       "      <td>04/07/19 22:30</td>\n",
       "      <td>682 Chestnut St, Boston, MA 02215</td>\n",
       "      <td>4</td>\n",
       "      <td>99.99</td>\n",
       "    </tr>\n",
       "    <tr>\n",
       "      <th>3</th>\n",
       "      <td>176560</td>\n",
       "      <td>Google Phone</td>\n",
       "      <td>1</td>\n",
       "      <td>600.00</td>\n",
       "      <td>04/12/19 14:38</td>\n",
       "      <td>669 Spruce St, Los Angeles, CA 90001</td>\n",
       "      <td>4</td>\n",
       "      <td>600.00</td>\n",
       "    </tr>\n",
       "    <tr>\n",
       "      <th>4</th>\n",
       "      <td>176560</td>\n",
       "      <td>Wired Headphones</td>\n",
       "      <td>1</td>\n",
       "      <td>11.99</td>\n",
       "      <td>04/12/19 14:38</td>\n",
       "      <td>669 Spruce St, Los Angeles, CA 90001</td>\n",
       "      <td>4</td>\n",
       "      <td>11.99</td>\n",
       "    </tr>\n",
       "    <tr>\n",
       "      <th>5</th>\n",
       "      <td>176561</td>\n",
       "      <td>Wired Headphones</td>\n",
       "      <td>1</td>\n",
       "      <td>11.99</td>\n",
       "      <td>04/30/19 09:27</td>\n",
       "      <td>333 8th St, Los Angeles, CA 90001</td>\n",
       "      <td>4</td>\n",
       "      <td>11.99</td>\n",
       "    </tr>\n",
       "    <tr>\n",
       "      <th>...</th>\n",
       "      <td>...</td>\n",
       "      <td>...</td>\n",
       "      <td>...</td>\n",
       "      <td>...</td>\n",
       "      <td>...</td>\n",
       "      <td>...</td>\n",
       "      <td>...</td>\n",
       "      <td>...</td>\n",
       "    </tr>\n",
       "    <tr>\n",
       "      <th>11681</th>\n",
       "      <td>259353</td>\n",
       "      <td>AAA Batteries (4-pack)</td>\n",
       "      <td>3</td>\n",
       "      <td>2.99</td>\n",
       "      <td>09/17/19 20:56</td>\n",
       "      <td>840 Highland St, Los Angeles, CA 90001</td>\n",
       "      <td>9</td>\n",
       "      <td>8.97</td>\n",
       "    </tr>\n",
       "    <tr>\n",
       "      <th>11682</th>\n",
       "      <td>259354</td>\n",
       "      <td>iPhone</td>\n",
       "      <td>1</td>\n",
       "      <td>700.00</td>\n",
       "      <td>09/01/19 16:00</td>\n",
       "      <td>216 Dogwood St, San Francisco, CA 94016</td>\n",
       "      <td>9</td>\n",
       "      <td>700.00</td>\n",
       "    </tr>\n",
       "    <tr>\n",
       "      <th>11683</th>\n",
       "      <td>259355</td>\n",
       "      <td>iPhone</td>\n",
       "      <td>1</td>\n",
       "      <td>700.00</td>\n",
       "      <td>09/23/19 07:39</td>\n",
       "      <td>220 12th St, San Francisco, CA 94016</td>\n",
       "      <td>9</td>\n",
       "      <td>700.00</td>\n",
       "    </tr>\n",
       "    <tr>\n",
       "      <th>11684</th>\n",
       "      <td>259356</td>\n",
       "      <td>34in Ultrawide Monitor</td>\n",
       "      <td>1</td>\n",
       "      <td>379.99</td>\n",
       "      <td>09/19/19 17:30</td>\n",
       "      <td>511 Forest St, San Francisco, CA 94016</td>\n",
       "      <td>9</td>\n",
       "      <td>379.99</td>\n",
       "    </tr>\n",
       "    <tr>\n",
       "      <th>11685</th>\n",
       "      <td>259357</td>\n",
       "      <td>USB-C Charging Cable</td>\n",
       "      <td>1</td>\n",
       "      <td>11.95</td>\n",
       "      <td>09/30/19 00:18</td>\n",
       "      <td>250 Meadow St, San Francisco, CA 94016</td>\n",
       "      <td>9</td>\n",
       "      <td>11.95</td>\n",
       "    </tr>\n",
       "  </tbody>\n",
       "</table>\n",
       "<p>185950 rows × 8 columns</p>\n",
       "</div>"
      ],
      "text/plain": [
       "      Order ID                     Product  Quantity Ordered  Price Each  \\\n",
       "0       176558        USB-C Charging Cable                 2       11.95   \n",
       "2       176559  Bose SoundSport Headphones                 1       99.99   \n",
       "3       176560                Google Phone                 1      600.00   \n",
       "4       176560            Wired Headphones                 1       11.99   \n",
       "5       176561            Wired Headphones                 1       11.99   \n",
       "...        ...                         ...               ...         ...   \n",
       "11681   259353      AAA Batteries (4-pack)                 3        2.99   \n",
       "11682   259354                      iPhone                 1      700.00   \n",
       "11683   259355                      iPhone                 1      700.00   \n",
       "11684   259356      34in Ultrawide Monitor                 1      379.99   \n",
       "11685   259357        USB-C Charging Cable                 1       11.95   \n",
       "\n",
       "           Order Date                         Purchase Address  month   Sales  \n",
       "0      04/19/19 08:46             917 1st St, Dallas, TX 75001      4   23.90  \n",
       "2      04/07/19 22:30        682 Chestnut St, Boston, MA 02215      4   99.99  \n",
       "3      04/12/19 14:38     669 Spruce St, Los Angeles, CA 90001      4  600.00  \n",
       "4      04/12/19 14:38     669 Spruce St, Los Angeles, CA 90001      4   11.99  \n",
       "5      04/30/19 09:27        333 8th St, Los Angeles, CA 90001      4   11.99  \n",
       "...               ...                                      ...    ...     ...  \n",
       "11681  09/17/19 20:56   840 Highland St, Los Angeles, CA 90001      9    8.97  \n",
       "11682  09/01/19 16:00  216 Dogwood St, San Francisco, CA 94016      9  700.00  \n",
       "11683  09/23/19 07:39     220 12th St, San Francisco, CA 94016      9  700.00  \n",
       "11684  09/19/19 17:30   511 Forest St, San Francisco, CA 94016      9  379.99  \n",
       "11685  09/30/19 00:18   250 Meadow St, San Francisco, CA 94016      9   11.95  \n",
       "\n",
       "[185950 rows x 8 columns]"
      ]
     },
     "execution_count": 142,
     "metadata": {},
     "output_type": "execute_result"
    }
   ],
   "source": [
    "df['Sales']=df['Quantity Ordered']*df['Price Each']\n",
    "df"
   ]
  },
  {
   "cell_type": "code",
   "execution_count": 46,
   "id": "bbe528a0",
   "metadata": {},
   "outputs": [
    {
     "data": {
      "text/plain": [
       "month\n",
       "1     1.822257e+06\n",
       "2     2.202022e+06\n",
       "3     2.807100e+06\n",
       "4     3.390670e+06\n",
       "5     3.152607e+06\n",
       "6     2.577802e+06\n",
       "7     2.647776e+06\n",
       "8     2.244468e+06\n",
       "9     2.097560e+06\n",
       "10    3.736727e+06\n",
       "11    3.199603e+06\n",
       "12    4.613443e+06\n",
       "Name: Sales, dtype: float64"
      ]
     },
     "execution_count": 46,
     "metadata": {},
     "output_type": "execute_result"
    }
   ],
   "source": [
    "df.groupby('month')['Sales'].sum()"
   ]
  },
  {
   "cell_type": "code",
   "execution_count": 48,
   "id": "0a47632c",
   "metadata": {},
   "outputs": [
    {
     "data": {
      "image/png": "[encoded data removed]",
      "text/plain": [
       "<Figure size 432x288 with 1 Axes>"
      ]
     },
     "metadata": {
      "needs_background": "light"
     },
     "output_type": "display_data"
    }
   ],
   "source": [
    "months=range(1,13)\n",
    "plt.bar(months,df.groupby('month')['Sales'].sum())\n",
    "plt.xticks(months)\n",
    "plt.xlabel('Month number')\n",
    "plt.ylabel('Sales in USD')\n",
    "plt.show()"
   ]
  },
  {
   "cell_type": "markdown",
   "id": "0e2d10aa",
   "metadata": {},
   "source": [
    "## ***2- Dans quelle ville nous avons enregistré un maximum de commandes***"
   ]
  },
  {
   "cell_type": "code",
   "execution_count": 52,
   "id": "3a70f248",
   "metadata": {},
   "outputs": [
    {
     "data": {
      "text/plain": [
       "' Los Angeles'"
      ]
     },
     "execution_count": 52,
     "metadata": {},
     "output_type": "execute_result"
    }
   ],
   "source": [
    "city('333 8th St, Los Angeles, CA 90001')\n"
   ]
  },
  {
   "cell_type": "code",
   "execution_count": 143,
   "id": "a1db8d98",
   "metadata": {},
   "outputs": [],
   "source": [
    "def city(x):\n",
    "    return x.split(',')[1]\n",
    "    "
   ]
  },
  {
   "cell_type": "code",
   "execution_count": 144,
   "id": "0221e248",
   "metadata": {},
   "outputs": [
    {
     "data": {
      "text/html": [
       "<div>\n",
       "<style scoped>\n",
       "    .dataframe tbody tr th:only-of-type {\n",
       "        vertical-align: middle;\n",
       "    }\n",
       "\n",
       "    .dataframe tbody tr th {\n",
       "        vertical-align: top;\n",
       "    }\n",
       "\n",
       "    .dataframe thead th {\n",
       "        text-align: right;\n",
       "    }\n",
       "</style>\n",
       "<table border=\"1\" class=\"dataframe\">\n",
       "  <thead>\n",
       "    <tr style=\"text-align: right;\">\n",
       "      <th></th>\n",
       "      <th>Order ID</th>\n",
       "      <th>Product</th>\n",
       "      <th>Quantity Ordered</th>\n",
       "      <th>Price Each</th>\n",
       "      <th>Order Date</th>\n",
       "      <th>Purchase Address</th>\n",
       "      <th>month</th>\n",
       "      <th>Sales</th>\n",
       "      <th>city</th>\n",
       "    </tr>\n",
       "  </thead>\n",
       "  <tbody>\n",
       "    <tr>\n",
       "      <th>0</th>\n",
       "      <td>176558</td>\n",
       "      <td>USB-C Charging Cable</td>\n",
       "      <td>2</td>\n",
       "      <td>11.95</td>\n",
       "      <td>04/19/19 08:46</td>\n",
       "      <td>917 1st St, Dallas, TX 75001</td>\n",
       "      <td>4</td>\n",
       "      <td>23.90</td>\n",
       "      <td>Dallas</td>\n",
       "    </tr>\n",
       "    <tr>\n",
       "      <th>2</th>\n",
       "      <td>176559</td>\n",
       "      <td>Bose SoundSport Headphones</td>\n",
       "      <td>1</td>\n",
       "      <td>99.99</td>\n",
       "      <td>04/07/19 22:30</td>\n",
       "      <td>682 Chestnut St, Boston, MA 02215</td>\n",
       "      <td>4</td>\n",
       "      <td>99.99</td>\n",
       "      <td>Boston</td>\n",
       "    </tr>\n",
       "    <tr>\n",
       "      <th>3</th>\n",
       "      <td>176560</td>\n",
       "      <td>Google Phone</td>\n",
       "      <td>1</td>\n",
       "      <td>600.00</td>\n",
       "      <td>04/12/19 14:38</td>\n",
       "      <td>669 Spruce St, Los Angeles, CA 90001</td>\n",
       "      <td>4</td>\n",
       "      <td>600.00</td>\n",
       "      <td>Los Angeles</td>\n",
       "    </tr>\n",
       "    <tr>\n",
       "      <th>4</th>\n",
       "      <td>176560</td>\n",
       "      <td>Wired Headphones</td>\n",
       "      <td>1</td>\n",
       "      <td>11.99</td>\n",
       "      <td>04/12/19 14:38</td>\n",
       "      <td>669 Spruce St, Los Angeles, CA 90001</td>\n",
       "      <td>4</td>\n",
       "      <td>11.99</td>\n",
       "      <td>Los Angeles</td>\n",
       "    </tr>\n",
       "    <tr>\n",
       "      <th>5</th>\n",
       "      <td>176561</td>\n",
       "      <td>Wired Headphones</td>\n",
       "      <td>1</td>\n",
       "      <td>11.99</td>\n",
       "      <td>04/30/19 09:27</td>\n",
       "      <td>333 8th St, Los Angeles, CA 90001</td>\n",
       "      <td>4</td>\n",
       "      <td>11.99</td>\n",
       "      <td>Los Angeles</td>\n",
       "    </tr>\n",
       "    <tr>\n",
       "      <th>...</th>\n",
       "      <td>...</td>\n",
       "      <td>...</td>\n",
       "      <td>...</td>\n",
       "      <td>...</td>\n",
       "      <td>...</td>\n",
       "      <td>...</td>\n",
       "      <td>...</td>\n",
       "      <td>...</td>\n",
       "      <td>...</td>\n",
       "    </tr>\n",
       "    <tr>\n",
       "      <th>11681</th>\n",
       "      <td>259353</td>\n",
       "      <td>AAA Batteries (4-pack)</td>\n",
       "      <td>3</td>\n",
       "      <td>2.99</td>\n",
       "      <td>09/17/19 20:56</td>\n",
       "      <td>840 Highland St, Los Angeles, CA 90001</td>\n",
       "      <td>9</td>\n",
       "      <td>8.97</td>\n",
       "      <td>Los Angeles</td>\n",
       "    </tr>\n",
       "    <tr>\n",
       "      <th>11682</th>\n",
       "      <td>259354</td>\n",
       "      <td>iPhone</td>\n",
       "      <td>1</td>\n",
       "      <td>700.00</td>\n",
       "      <td>09/01/19 16:00</td>\n",
       "      <td>216 Dogwood St, San Francisco, CA 94016</td>\n",
       "      <td>9</td>\n",
       "      <td>700.00</td>\n",
       "      <td>San Francisco</td>\n",
       "    </tr>\n",
       "    <tr>\n",
       "      <th>11683</th>\n",
       "      <td>259355</td>\n",
       "      <td>iPhone</td>\n",
       "      <td>1</td>\n",
       "      <td>700.00</td>\n",
       "      <td>09/23/19 07:39</td>\n",
       "      <td>220 12th St, San Francisco, CA 94016</td>\n",
       "      <td>9</td>\n",
       "      <td>700.00</td>\n",
       "      <td>San Francisco</td>\n",
       "    </tr>\n",
       "    <tr>\n",
       "      <th>11684</th>\n",
       "      <td>259356</td>\n",
       "      <td>34in Ultrawide Monitor</td>\n",
       "      <td>1</td>\n",
       "      <td>379.99</td>\n",
       "      <td>09/19/19 17:30</td>\n",
       "      <td>511 Forest St, San Francisco, CA 94016</td>\n",
       "      <td>9</td>\n",
       "      <td>379.99</td>\n",
       "      <td>San Francisco</td>\n",
       "    </tr>\n",
       "    <tr>\n",
       "      <th>11685</th>\n",
       "      <td>259357</td>\n",
       "      <td>USB-C Charging Cable</td>\n",
       "      <td>1</td>\n",
       "      <td>11.95</td>\n",
       "      <td>09/30/19 00:18</td>\n",
       "      <td>250 Meadow St, San Francisco, CA 94016</td>\n",
       "      <td>9</td>\n",
       "      <td>11.95</td>\n",
       "      <td>San Francisco</td>\n",
       "    </tr>\n",
       "  </tbody>\n",
       "</table>\n",
       "<p>185950 rows × 9 columns</p>\n",
       "</div>"
      ],
      "text/plain": [
       "      Order ID                     Product  Quantity Ordered  Price Each  \\\n",
       "0       176558        USB-C Charging Cable                 2       11.95   \n",
       "2       176559  Bose SoundSport Headphones                 1       99.99   \n",
       "3       176560                Google Phone                 1      600.00   \n",
       "4       176560            Wired Headphones                 1       11.99   \n",
       "5       176561            Wired Headphones                 1       11.99   \n",
       "...        ...                         ...               ...         ...   \n",
       "11681   259353      AAA Batteries (4-pack)                 3        2.99   \n",
       "11682   259354                      iPhone                 1      700.00   \n",
       "11683   259355                      iPhone                 1      700.00   \n",
       "11684   259356      34in Ultrawide Monitor                 1      379.99   \n",
       "11685   259357        USB-C Charging Cable                 1       11.95   \n",
       "\n",
       "           Order Date                         Purchase Address  month   Sales  \\\n",
       "0      04/19/19 08:46             917 1st St, Dallas, TX 75001      4   23.90   \n",
       "2      04/07/19 22:30        682 Chestnut St, Boston, MA 02215      4   99.99   \n",
       "3      04/12/19 14:38     669 Spruce St, Los Angeles, CA 90001      4  600.00   \n",
       "4      04/12/19 14:38     669 Spruce St, Los Angeles, CA 90001      4   11.99   \n",
       "5      04/30/19 09:27        333 8th St, Los Angeles, CA 90001      4   11.99   \n",
       "...               ...                                      ...    ...     ...   \n",
       "11681  09/17/19 20:56   840 Highland St, Los Angeles, CA 90001      9    8.97   \n",
       "11682  09/01/19 16:00  216 Dogwood St, San Francisco, CA 94016      9  700.00   \n",
       "11683  09/23/19 07:39     220 12th St, San Francisco, CA 94016      9  700.00   \n",
       "11684  09/19/19 17:30   511 Forest St, San Francisco, CA 94016      9  379.99   \n",
       "11685  09/30/19 00:18   250 Meadow St, San Francisco, CA 94016      9   11.95   \n",
       "\n",
       "                 city  \n",
       "0              Dallas  \n",
       "2              Boston  \n",
       "3         Los Angeles  \n",
       "4         Los Angeles  \n",
       "5         Los Angeles  \n",
       "...               ...  \n",
       "11681     Los Angeles  \n",
       "11682   San Francisco  \n",
       "11683   San Francisco  \n",
       "11684   San Francisco  \n",
       "11685   San Francisco  \n",
       "\n",
       "[185950 rows x 9 columns]"
      ]
     },
     "execution_count": 144,
     "metadata": {},
     "output_type": "execute_result"
    }
   ],
   "source": [
    "df['city']=df['Purchase Address'].apply(city)\n",
    "df"
   ]
  },
  {
   "cell_type": "code",
   "execution_count": 145,
   "id": "aa6396f7",
   "metadata": {},
   "outputs": [
    {
     "data": {
      "text/plain": [
       "city\n",
       " Atlanta          14881\n",
       " Austin            9905\n",
       " Boston           19934\n",
       " Dallas           14820\n",
       " Los Angeles      29605\n",
       " New York City    24876\n",
       " Portland         12465\n",
       " San Francisco    44732\n",
       " Seattle          14732\n",
       "Name: city, dtype: int64"
      ]
     },
     "execution_count": 145,
     "metadata": {},
     "output_type": "execute_result"
    }
   ],
   "source": [
    "df.groupby('city')['city'].count()"
   ]
  },
  {
   "cell_type": "code",
   "execution_count": 146,
   "id": "89e17dbc",
   "metadata": {},
   "outputs": [
    {
     "data": {
      "image/png": "[encoded data removed]",
      "text/plain": [
       "<Figure size 432x288 with 1 Axes>"
      ]
     },
     "metadata": {
      "needs_background": "light"
     },
     "output_type": "display_data"
    }
   ],
   "source": [
    "months=range(1,13)\n",
    "plt.bar(df.groupby('city')['city'].count().index,df.groupby('city')['city'].count())\n",
    "plt.xticks(rotation='vertical')\n",
    "plt.xlabel('City name')\n",
    "plt.ylabel('Received Orders')\n",
    "plt.show()"
   ]
  },
  {
   "cell_type": "markdown",
   "id": "1662ba49",
   "metadata": {},
   "source": [
    "## ***3- En quelle moment on faire une compagne publicitaire pour avoir plus de ventes***"
   ]
  },
  {
   "cell_type": "code",
   "execution_count": 147,
   "id": "c9ffd135",
   "metadata": {},
   "outputs": [
    {
     "data": {
      "text/html": [
       "<div>\n",
       "<style scoped>\n",
       "    .dataframe tbody tr th:only-of-type {\n",
       "        vertical-align: middle;\n",
       "    }\n",
       "\n",
       "    .dataframe tbody tr th {\n",
       "        vertical-align: top;\n",
       "    }\n",
       "\n",
       "    .dataframe thead th {\n",
       "        text-align: right;\n",
       "    }\n",
       "</style>\n",
       "<table border=\"1\" class=\"dataframe\">\n",
       "  <thead>\n",
       "    <tr style=\"text-align: right;\">\n",
       "      <th></th>\n",
       "      <th>Order ID</th>\n",
       "      <th>Product</th>\n",
       "      <th>Quantity Ordered</th>\n",
       "      <th>Price Each</th>\n",
       "      <th>Order Date</th>\n",
       "      <th>Purchase Address</th>\n",
       "      <th>month</th>\n",
       "      <th>Sales</th>\n",
       "      <th>city</th>\n",
       "      <th>Hour</th>\n",
       "    </tr>\n",
       "  </thead>\n",
       "  <tbody>\n",
       "    <tr>\n",
       "      <th>0</th>\n",
       "      <td>176558</td>\n",
       "      <td>USB-C Charging Cable</td>\n",
       "      <td>2</td>\n",
       "      <td>11.95</td>\n",
       "      <td>04/19/19 08:46</td>\n",
       "      <td>917 1st St, Dallas, TX 75001</td>\n",
       "      <td>4</td>\n",
       "      <td>23.90</td>\n",
       "      <td>Dallas</td>\n",
       "      <td>8</td>\n",
       "    </tr>\n",
       "    <tr>\n",
       "      <th>2</th>\n",
       "      <td>176559</td>\n",
       "      <td>Bose SoundSport Headphones</td>\n",
       "      <td>1</td>\n",
       "      <td>99.99</td>\n",
       "      <td>04/07/19 22:30</td>\n",
       "      <td>682 Chestnut St, Boston, MA 02215</td>\n",
       "      <td>4</td>\n",
       "      <td>99.99</td>\n",
       "      <td>Boston</td>\n",
       "      <td>22</td>\n",
       "    </tr>\n",
       "    <tr>\n",
       "      <th>3</th>\n",
       "      <td>176560</td>\n",
       "      <td>Google Phone</td>\n",
       "      <td>1</td>\n",
       "      <td>600.00</td>\n",
       "      <td>04/12/19 14:38</td>\n",
       "      <td>669 Spruce St, Los Angeles, CA 90001</td>\n",
       "      <td>4</td>\n",
       "      <td>600.00</td>\n",
       "      <td>Los Angeles</td>\n",
       "      <td>14</td>\n",
       "    </tr>\n",
       "    <tr>\n",
       "      <th>4</th>\n",
       "      <td>176560</td>\n",
       "      <td>Wired Headphones</td>\n",
       "      <td>1</td>\n",
       "      <td>11.99</td>\n",
       "      <td>04/12/19 14:38</td>\n",
       "      <td>669 Spruce St, Los Angeles, CA 90001</td>\n",
       "      <td>4</td>\n",
       "      <td>11.99</td>\n",
       "      <td>Los Angeles</td>\n",
       "      <td>14</td>\n",
       "    </tr>\n",
       "    <tr>\n",
       "      <th>5</th>\n",
       "      <td>176561</td>\n",
       "      <td>Wired Headphones</td>\n",
       "      <td>1</td>\n",
       "      <td>11.99</td>\n",
       "      <td>04/30/19 09:27</td>\n",
       "      <td>333 8th St, Los Angeles, CA 90001</td>\n",
       "      <td>4</td>\n",
       "      <td>11.99</td>\n",
       "      <td>Los Angeles</td>\n",
       "      <td>9</td>\n",
       "    </tr>\n",
       "    <tr>\n",
       "      <th>...</th>\n",
       "      <td>...</td>\n",
       "      <td>...</td>\n",
       "      <td>...</td>\n",
       "      <td>...</td>\n",
       "      <td>...</td>\n",
       "      <td>...</td>\n",
       "      <td>...</td>\n",
       "      <td>...</td>\n",
       "      <td>...</td>\n",
       "      <td>...</td>\n",
       "    </tr>\n",
       "    <tr>\n",
       "      <th>11681</th>\n",
       "      <td>259353</td>\n",
       "      <td>AAA Batteries (4-pack)</td>\n",
       "      <td>3</td>\n",
       "      <td>2.99</td>\n",
       "      <td>09/17/19 20:56</td>\n",
       "      <td>840 Highland St, Los Angeles, CA 90001</td>\n",
       "      <td>9</td>\n",
       "      <td>8.97</td>\n",
       "      <td>Los Angeles</td>\n",
       "      <td>20</td>\n",
       "    </tr>\n",
       "    <tr>\n",
       "      <th>11682</th>\n",
       "      <td>259354</td>\n",
       "      <td>iPhone</td>\n",
       "      <td>1</td>\n",
       "      <td>700.00</td>\n",
       "      <td>09/01/19 16:00</td>\n",
       "      <td>216 Dogwood St, San Francisco, CA 94016</td>\n",
       "      <td>9</td>\n",
       "      <td>700.00</td>\n",
       "      <td>San Francisco</td>\n",
       "      <td>16</td>\n",
       "    </tr>\n",
       "    <tr>\n",
       "      <th>11683</th>\n",
       "      <td>259355</td>\n",
       "      <td>iPhone</td>\n",
       "      <td>1</td>\n",
       "      <td>700.00</td>\n",
       "      <td>09/23/19 07:39</td>\n",
       "      <td>220 12th St, San Francisco, CA 94016</td>\n",
       "      <td>9</td>\n",
       "      <td>700.00</td>\n",
       "      <td>San Francisco</td>\n",
       "      <td>7</td>\n",
       "    </tr>\n",
       "    <tr>\n",
       "      <th>11684</th>\n",
       "      <td>259356</td>\n",
       "      <td>34in Ultrawide Monitor</td>\n",
       "      <td>1</td>\n",
       "      <td>379.99</td>\n",
       "      <td>09/19/19 17:30</td>\n",
       "      <td>511 Forest St, San Francisco, CA 94016</td>\n",
       "      <td>9</td>\n",
       "      <td>379.99</td>\n",
       "      <td>San Francisco</td>\n",
       "      <td>17</td>\n",
       "    </tr>\n",
       "    <tr>\n",
       "      <th>11685</th>\n",
       "      <td>259357</td>\n",
       "      <td>USB-C Charging Cable</td>\n",
       "      <td>1</td>\n",
       "      <td>11.95</td>\n",
       "      <td>09/30/19 00:18</td>\n",
       "      <td>250 Meadow St, San Francisco, CA 94016</td>\n",
       "      <td>9</td>\n",
       "      <td>11.95</td>\n",
       "      <td>San Francisco</td>\n",
       "      <td>0</td>\n",
       "    </tr>\n",
       "  </tbody>\n",
       "</table>\n",
       "<p>185950 rows × 10 columns</p>\n",
       "</div>"
      ],
      "text/plain": [
       "      Order ID                     Product  Quantity Ordered  Price Each  \\\n",
       "0       176558        USB-C Charging Cable                 2       11.95   \n",
       "2       176559  Bose SoundSport Headphones                 1       99.99   \n",
       "3       176560                Google Phone                 1      600.00   \n",
       "4       176560            Wired Headphones                 1       11.99   \n",
       "5       176561            Wired Headphones                 1       11.99   \n",
       "...        ...                         ...               ...         ...   \n",
       "11681   259353      AAA Batteries (4-pack)                 3        2.99   \n",
       "11682   259354                      iPhone                 1      700.00   \n",
       "11683   259355                      iPhone                 1      700.00   \n",
       "11684   259356      34in Ultrawide Monitor                 1      379.99   \n",
       "11685   259357        USB-C Charging Cable                 1       11.95   \n",
       "\n",
       "           Order Date                         Purchase Address  month   Sales  \\\n",
       "0      04/19/19 08:46             917 1st St, Dallas, TX 75001      4   23.90   \n",
       "2      04/07/19 22:30        682 Chestnut St, Boston, MA 02215      4   99.99   \n",
       "3      04/12/19 14:38     669 Spruce St, Los Angeles, CA 90001      4  600.00   \n",
       "4      04/12/19 14:38     669 Spruce St, Los Angeles, CA 90001      4   11.99   \n",
       "5      04/30/19 09:27        333 8th St, Los Angeles, CA 90001      4   11.99   \n",
       "...               ...                                      ...    ...     ...   \n",
       "11681  09/17/19 20:56   840 Highland St, Los Angeles, CA 90001      9    8.97   \n",
       "11682  09/01/19 16:00  216 Dogwood St, San Francisco, CA 94016      9  700.00   \n",
       "11683  09/23/19 07:39     220 12th St, San Francisco, CA 94016      9  700.00   \n",
       "11684  09/19/19 17:30   511 Forest St, San Francisco, CA 94016      9  379.99   \n",
       "11685  09/30/19 00:18   250 Meadow St, San Francisco, CA 94016      9   11.95   \n",
       "\n",
       "                 city  Hour  \n",
       "0              Dallas     8  \n",
       "2              Boston    22  \n",
       "3         Los Angeles    14  \n",
       "4         Los Angeles    14  \n",
       "5         Los Angeles     9  \n",
       "...               ...   ...  \n",
       "11681     Los Angeles    20  \n",
       "11682   San Francisco    16  \n",
       "11683   San Francisco     7  \n",
       "11684   San Francisco    17  \n",
       "11685   San Francisco     0  \n",
       "\n",
       "[185950 rows x 10 columns]"
      ]
     },
     "execution_count": 147,
     "metadata": {},
     "output_type": "execute_result"
    }
   ],
   "source": [
    "df['Hour'] = pd.to_datetime(df['Order Date']).dt.hour # Conversion en datetime + Extraction de l'heure (0-23)\n",
    "df"
   ]
  },
  {
   "cell_type": "code",
   "execution_count": 148,
   "id": "b755ac6e",
   "metadata": {},
   "outputs": [
    {
     "data": {
      "text/plain": [
       "[3910,\n",
       " 2350,\n",
       " 1243,\n",
       " 831,\n",
       " 854,\n",
       " 1321,\n",
       " 2482,\n",
       " 4011,\n",
       " 6256,\n",
       " 8748,\n",
       " 10944,\n",
       " 12411,\n",
       " 12587,\n",
       " 12129,\n",
       " 10984,\n",
       " 10175,\n",
       " 10384,\n",
       " 10899,\n",
       " 12280,\n",
       " 12905,\n",
       " 12228,\n",
       " 10921,\n",
       " 8822,\n",
       " 6275]"
      ]
     },
     "execution_count": 148,
     "metadata": {},
     "output_type": "execute_result"
    }
   ],
   "source": [
    "keys=[]\n",
    "hours=[]\n",
    "for key, hour in df.groupby('Hour'):\n",
    "    keys.append(key)\n",
    "    hours.append(len(hour))\n",
    "    \n",
    "hours"
   ]
  },
  {
   "cell_type": "code",
   "execution_count": 149,
   "id": "3eb8eeaf",
   "metadata": {},
   "outputs": [
    {
     "data": {
      "text/plain": [
       "Text(0, 0.5, 'nombre de commandes')"
      ]
     },
     "execution_count": 149,
     "metadata": {},
     "output_type": "execute_result"
    },
    {
     "data": {
      "image/png": "[encoded data removed]",
      "text/plain": [
       "<Figure size 432x288 with 1 Axes>"
      ]
     },
     "metadata": {
      "needs_background": "light"
     },
     "output_type": "display_data"
    }
   ],
   "source": [
    "plt.grid()\n",
    "plt.plot(keys,hours)\n",
    "plt.xlabel('heure de la jounrée')\n",
    "plt.ylabel('nombre de commandes')\n"
   ]
  },
  {
   "cell_type": "code",
   "execution_count": 150,
   "id": "ac8dd927",
   "metadata": {},
   "outputs": [
    {
     "data": {
      "text/plain": [
       "Hour\n",
       "0      4428\n",
       "1      2619\n",
       "2      1398\n",
       "3       928\n",
       "4       937\n",
       "5      1493\n",
       "6      2810\n",
       "7      4556\n",
       "8      7002\n",
       "9      9816\n",
       "10    12308\n",
       "11    14005\n",
       "12    14202\n",
       "13    13685\n",
       "14    12362\n",
       "15    11391\n",
       "16    11662\n",
       "17    12229\n",
       "18    13802\n",
       "19    14470\n",
       "20    13768\n",
       "21    12244\n",
       "22     9899\n",
       "23     7065\n",
       "Name: Quantity Ordered, dtype: int32"
      ]
     },
     "execution_count": 150,
     "metadata": {},
     "output_type": "execute_result"
    }
   ],
   "source": [
    "#  if df[df['Hour']==0]:\n",
    "# #         r=df['Quantity Ordered'].any()\n",
    "f=df.groupby('Hour')['Quantity Ordered'].sum()\n",
    "f"
   ]
  },
  {
   "cell_type": "code",
   "execution_count": 151,
   "id": "8baef1a4",
   "metadata": {},
   "outputs": [
    {
     "data": {
      "text/plain": [
       "Text(0, 0.5, 'nombre de commandes')"
      ]
     },
     "execution_count": 151,
     "metadata": {},
     "output_type": "execute_result"
    },
    {
     "data": {
      "image/png": "[encoded data removed]",
      "text/plain": [
       "<Figure size 432x288 with 1 Axes>"
      ]
     },
     "metadata": {
      "needs_background": "light"
     },
     "output_type": "display_data"
    }
   ],
   "source": [
    "plt.grid()\n",
    "plt.plot(f)\n",
    "plt.xlabel('heure de la jounrée')\n",
    "plt.ylabel('nombre de commandes')"
   ]
  },
  {
   "cell_type": "code",
   "execution_count": 152,
   "id": "74303dc7",
   "metadata": {},
   "outputs": [
    {
     "data": {
      "text/plain": [
       "19"
      ]
     },
     "execution_count": 152,
     "metadata": {},
     "output_type": "execute_result"
    }
   ],
   "source": [
    "f.idxmax()"
   ]
  },
  {
   "cell_type": "markdown",
   "id": "0f0ffad0",
   "metadata": {},
   "source": [
    "## ***4- Quel produit se vend le plus***"
   ]
  },
  {
   "cell_type": "code",
   "execution_count": 153,
   "id": "548dbfad",
   "metadata": {},
   "outputs": [
    {
     "data": {
      "text/plain": [
       "Product\n",
       "20in Monitor                   4129\n",
       "27in 4K Gaming Monitor         6244\n",
       "27in FHD Monitor               7550\n",
       "34in Ultrawide Monitor         6199\n",
       "AA Batteries (4-pack)         27635\n",
       "AAA Batteries (4-pack)        31017\n",
       "Apple Airpods Headphones      15661\n",
       "Bose SoundSport Headphones    13457\n",
       "Flatscreen TV                  4819\n",
       "Google Phone                   5532\n",
       "LG Dryer                        646\n",
       "LG Washing Machine              666\n",
       "Lightning Charging Cable      23217\n",
       "Macbook Pro Laptop             4728\n",
       "ThinkPad Laptop                4130\n",
       "USB-C Charging Cable          23975\n",
       "Vareebadd Phone                2068\n",
       "Wired Headphones              20557\n",
       "iPhone                         6849\n",
       "Name: Quantity Ordered, dtype: int32"
      ]
     },
     "execution_count": 153,
     "metadata": {},
     "output_type": "execute_result"
    }
   ],
   "source": [
    "df.groupby('Product')['Quantity Ordered'].sum()"
   ]
  },
  {
   "cell_type": "markdown",
   "id": "37b7e7c8",
   "metadata": {},
   "source": [
    "### ***Reponse***"
   ]
  },
  {
   "cell_type": "code",
   "execution_count": 154,
   "id": "99d658d9",
   "metadata": {},
   "outputs": [
    {
     "data": {
      "text/plain": [
       "'AAA Batteries (4-pack)'"
      ]
     },
     "execution_count": 154,
     "metadata": {},
     "output_type": "execute_result"
    }
   ],
   "source": [
    "df.groupby('Product')['Quantity Ordered'].sum().idxmax()"
   ]
  },
  {
   "cell_type": "code",
   "execution_count": 155,
   "id": "064d395d",
   "metadata": {},
   "outputs": [
    {
     "data": {
      "text/plain": [
       "<AxesSubplot:xlabel='Product'>"
      ]
     },
     "execution_count": 155,
     "metadata": {},
     "output_type": "execute_result"
    },
    {
     "data": {
      "image/png": "[encoded data removed]",
      "text/plain": [
       "<Figure size 432x288 with 1 Axes>"
      ]
     },
     "metadata": {
      "needs_background": "light"
     },
     "output_type": "display_data"
    }
   ],
   "source": [
    "df.groupby('Product')['Quantity Ordered'].sum().plot(kind='bar')"
   ]
  },
  {
   "cell_type": "code",
   "execution_count": 156,
   "id": "15e90de3",
   "metadata": {},
   "outputs": [
    {
     "data": {
      "text/plain": [
       "Product\n",
       "20in Monitor                   109.99\n",
       "27in 4K Gaming Monitor         389.99\n",
       "27in FHD Monitor               149.99\n",
       "34in Ultrawide Monitor         379.99\n",
       "AA Batteries (4-pack)            3.84\n",
       "AAA Batteries (4-pack)           2.99\n",
       "Apple Airpods Headphones       150.00\n",
       "Bose SoundSport Headphones      99.99\n",
       "Flatscreen TV                  300.00\n",
       "Google Phone                   600.00\n",
       "LG Dryer                       600.00\n",
       "LG Washing Machine             600.00\n",
       "Lightning Charging Cable        14.95\n",
       "Macbook Pro Laptop            1700.00\n",
       "ThinkPad Laptop                999.99\n",
       "USB-C Charging Cable            11.95\n",
       "Vareebadd Phone                400.00\n",
       "Wired Headphones                11.99\n",
       "iPhone                         700.00\n",
       "Name: Price Each, dtype: float64"
      ]
     },
     "execution_count": 156,
     "metadata": {},
     "output_type": "execute_result"
    }
   ],
   "source": [
    "df.groupby('Product')['Price Each'].mean()"
   ]
  },
  {
   "cell_type": "code",
   "execution_count": 157,
   "id": "f5aa0be8",
   "metadata": {},
   "outputs": [],
   "source": [
    "products=df.groupby('Product')['Quantity Ordered'].sum().index\n",
    "quantity=df.groupby('Product')['Quantity Ordered'].sum()\n",
    "prices=df.groupby('Product')['Price Each'].mean()"
   ]
  },
  {
   "cell_type": "code",
   "execution_count": 158,
   "id": "67a74b3f",
   "metadata": {},
   "outputs": [
    {
     "name": "stderr",
     "output_type": "stream",
     "text": [
      "<ipython-input-158-0feae089825c>:6: UserWarning: FixedFormatter should only be used together with FixedLocator\n",
      "  ax1.set_xticklabels(products,rotation='vertical',size=8)\n"
     ]
    },
    {
     "data": {
      "text/plain": [
       "[Text(0, 0, '20in Monitor'),\n",
       " Text(1, 0, '27in 4K Gaming Monitor'),\n",
       " Text(2, 0, '27in FHD Monitor'),\n",
       " Text(3, 0, '34in Ultrawide Monitor'),\n",
       " Text(4, 0, 'AA Batteries (4-pack)'),\n",
       " Text(5, 0, 'AAA Batteries (4-pack)'),\n",
       " Text(6, 0, 'Apple Airpods Headphones'),\n",
       " Text(7, 0, 'Bose SoundSport Headphones'),\n",
       " Text(8, 0, 'Flatscreen TV'),\n",
       " Text(9, 0, 'Google Phone'),\n",
       " Text(10, 0, 'LG Dryer'),\n",
       " Text(11, 0, 'LG Washing Machine'),\n",
       " Text(12, 0, 'Lightning Charging Cable'),\n",
       " Text(13, 0, 'Macbook Pro Laptop'),\n",
       " Text(14, 0, 'ThinkPad Laptop'),\n",
       " Text(15, 0, 'USB-C Charging Cable'),\n",
       " Text(16, 0, 'Vareebadd Phone'),\n",
       " Text(17, 0, 'Wired Headphones'),\n",
       " Text(18, 0, 'iPhone')]"
      ]
     },
     "execution_count": 158,
     "metadata": {},
     "output_type": "execute_result"
    },
    {
     "data": {
      "text/plain": [
       "<Figure size 2880x1728 with 0 Axes>"
      ]
     },
     "metadata": {},
     "output_type": "display_data"
    },
    {
     "data": {
      "image/png": "[encoded data removed]",
      "text/plain": [
       "<Figure size 432x288 with 2 Axes>"
      ]
     },
     "metadata": {
      "needs_background": "light"
     },
     "output_type": "display_data"
    }
   ],
   "source": [
    "plt.figure(figsize=(40,24))\n",
    "fig,ax1 = plt.subplots()\n",
    "ax2 = ax1.twinx()\n",
    "ax1.bar(products,quantity,color='g')\n",
    "ax2.plot(products,prices,'-b')\n",
    "ax1.set_xticklabels(products,rotation='vertical',size=8)"
   ]
  },
  {
   "cell_type": "markdown",
   "id": "9201cf7e",
   "metadata": {},
   "source": [
    "## 5- Quelles sont les combinaisons de produits qui se vendent le plus"
   ]
  },
  {
   "cell_type": "code",
   "execution_count": 162,
   "id": "b819cc80",
   "metadata": {},
   "outputs": [],
   "source": [
    "df1=df[df['Order ID'].duplicated(keep=False)]"
   ]
  },
  {
   "cell_type": "code",
   "execution_count": 163,
   "id": "3c27980e",
   "metadata": {},
   "outputs": [
    {
     "data": {
      "text/html": [
       "<div>\n",
       "<style scoped>\n",
       "    .dataframe tbody tr th:only-of-type {\n",
       "        vertical-align: middle;\n",
       "    }\n",
       "\n",
       "    .dataframe tbody tr th {\n",
       "        vertical-align: top;\n",
       "    }\n",
       "\n",
       "    .dataframe thead th {\n",
       "        text-align: right;\n",
       "    }\n",
       "</style>\n",
       "<table border=\"1\" class=\"dataframe\">\n",
       "  <thead>\n",
       "    <tr style=\"text-align: right;\">\n",
       "      <th></th>\n",
       "      <th>Order ID</th>\n",
       "      <th>Product</th>\n",
       "      <th>Quantity Ordered</th>\n",
       "      <th>Price Each</th>\n",
       "      <th>Order Date</th>\n",
       "      <th>Purchase Address</th>\n",
       "      <th>month</th>\n",
       "      <th>Sales</th>\n",
       "      <th>city</th>\n",
       "      <th>Hour</th>\n",
       "    </tr>\n",
       "  </thead>\n",
       "  <tbody>\n",
       "    <tr>\n",
       "      <th>3</th>\n",
       "      <td>176560</td>\n",
       "      <td>Google Phone</td>\n",
       "      <td>1</td>\n",
       "      <td>600.00</td>\n",
       "      <td>04/12/19 14:38</td>\n",
       "      <td>669 Spruce St, Los Angeles, CA 90001</td>\n",
       "      <td>4</td>\n",
       "      <td>600.00</td>\n",
       "      <td>Los Angeles</td>\n",
       "      <td>14</td>\n",
       "    </tr>\n",
       "    <tr>\n",
       "      <th>4</th>\n",
       "      <td>176560</td>\n",
       "      <td>Wired Headphones</td>\n",
       "      <td>1</td>\n",
       "      <td>11.99</td>\n",
       "      <td>04/12/19 14:38</td>\n",
       "      <td>669 Spruce St, Los Angeles, CA 90001</td>\n",
       "      <td>4</td>\n",
       "      <td>11.99</td>\n",
       "      <td>Los Angeles</td>\n",
       "      <td>14</td>\n",
       "    </tr>\n",
       "    <tr>\n",
       "      <th>18</th>\n",
       "      <td>176574</td>\n",
       "      <td>Google Phone</td>\n",
       "      <td>1</td>\n",
       "      <td>600.00</td>\n",
       "      <td>04/03/19 19:42</td>\n",
       "      <td>20 Hill St, Los Angeles, CA 90001</td>\n",
       "      <td>4</td>\n",
       "      <td>600.00</td>\n",
       "      <td>Los Angeles</td>\n",
       "      <td>19</td>\n",
       "    </tr>\n",
       "    <tr>\n",
       "      <th>19</th>\n",
       "      <td>176574</td>\n",
       "      <td>USB-C Charging Cable</td>\n",
       "      <td>1</td>\n",
       "      <td>11.95</td>\n",
       "      <td>04/03/19 19:42</td>\n",
       "      <td>20 Hill St, Los Angeles, CA 90001</td>\n",
       "      <td>4</td>\n",
       "      <td>11.95</td>\n",
       "      <td>Los Angeles</td>\n",
       "      <td>19</td>\n",
       "    </tr>\n",
       "    <tr>\n",
       "      <th>30</th>\n",
       "      <td>176585</td>\n",
       "      <td>Bose SoundSport Headphones</td>\n",
       "      <td>1</td>\n",
       "      <td>99.99</td>\n",
       "      <td>04/07/19 11:31</td>\n",
       "      <td>823 Highland St, Boston, MA 02215</td>\n",
       "      <td>4</td>\n",
       "      <td>99.99</td>\n",
       "      <td>Boston</td>\n",
       "      <td>11</td>\n",
       "    </tr>\n",
       "    <tr>\n",
       "      <th>...</th>\n",
       "      <td>...</td>\n",
       "      <td>...</td>\n",
       "      <td>...</td>\n",
       "      <td>...</td>\n",
       "      <td>...</td>\n",
       "      <td>...</td>\n",
       "      <td>...</td>\n",
       "      <td>...</td>\n",
       "      <td>...</td>\n",
       "      <td>...</td>\n",
       "    </tr>\n",
       "    <tr>\n",
       "      <th>11628</th>\n",
       "      <td>259303</td>\n",
       "      <td>AA Batteries (4-pack)</td>\n",
       "      <td>1</td>\n",
       "      <td>3.84</td>\n",
       "      <td>09/20/19 20:18</td>\n",
       "      <td>106 7th St, Atlanta, GA 30301</td>\n",
       "      <td>9</td>\n",
       "      <td>3.84</td>\n",
       "      <td>Atlanta</td>\n",
       "      <td>20</td>\n",
       "    </tr>\n",
       "    <tr>\n",
       "      <th>11639</th>\n",
       "      <td>259314</td>\n",
       "      <td>Wired Headphones</td>\n",
       "      <td>1</td>\n",
       "      <td>11.99</td>\n",
       "      <td>09/16/19 00:25</td>\n",
       "      <td>241 Highland St, Atlanta, GA 30301</td>\n",
       "      <td>9</td>\n",
       "      <td>11.99</td>\n",
       "      <td>Atlanta</td>\n",
       "      <td>0</td>\n",
       "    </tr>\n",
       "    <tr>\n",
       "      <th>11640</th>\n",
       "      <td>259314</td>\n",
       "      <td>AAA Batteries (4-pack)</td>\n",
       "      <td>2</td>\n",
       "      <td>2.99</td>\n",
       "      <td>09/16/19 00:25</td>\n",
       "      <td>241 Highland St, Atlanta, GA 30301</td>\n",
       "      <td>9</td>\n",
       "      <td>5.98</td>\n",
       "      <td>Atlanta</td>\n",
       "      <td>0</td>\n",
       "    </tr>\n",
       "    <tr>\n",
       "      <th>11677</th>\n",
       "      <td>259350</td>\n",
       "      <td>Google Phone</td>\n",
       "      <td>1</td>\n",
       "      <td>600.00</td>\n",
       "      <td>09/30/19 13:49</td>\n",
       "      <td>519 Maple St, San Francisco, CA 94016</td>\n",
       "      <td>9</td>\n",
       "      <td>600.00</td>\n",
       "      <td>San Francisco</td>\n",
       "      <td>13</td>\n",
       "    </tr>\n",
       "    <tr>\n",
       "      <th>11678</th>\n",
       "      <td>259350</td>\n",
       "      <td>USB-C Charging Cable</td>\n",
       "      <td>1</td>\n",
       "      <td>11.95</td>\n",
       "      <td>09/30/19 13:49</td>\n",
       "      <td>519 Maple St, San Francisco, CA 94016</td>\n",
       "      <td>9</td>\n",
       "      <td>11.95</td>\n",
       "      <td>San Francisco</td>\n",
       "      <td>13</td>\n",
       "    </tr>\n",
       "  </tbody>\n",
       "</table>\n",
       "<p>14649 rows × 10 columns</p>\n",
       "</div>"
      ],
      "text/plain": [
       "      Order ID                     Product  Quantity Ordered  Price Each  \\\n",
       "3       176560                Google Phone                 1      600.00   \n",
       "4       176560            Wired Headphones                 1       11.99   \n",
       "18      176574                Google Phone                 1      600.00   \n",
       "19      176574        USB-C Charging Cable                 1       11.95   \n",
       "30      176585  Bose SoundSport Headphones                 1       99.99   \n",
       "...        ...                         ...               ...         ...   \n",
       "11628   259303       AA Batteries (4-pack)                 1        3.84   \n",
       "11639   259314            Wired Headphones                 1       11.99   \n",
       "11640   259314      AAA Batteries (4-pack)                 2        2.99   \n",
       "11677   259350                Google Phone                 1      600.00   \n",
       "11678   259350        USB-C Charging Cable                 1       11.95   \n",
       "\n",
       "           Order Date                       Purchase Address  month   Sales  \\\n",
       "3      04/12/19 14:38   669 Spruce St, Los Angeles, CA 90001      4  600.00   \n",
       "4      04/12/19 14:38   669 Spruce St, Los Angeles, CA 90001      4   11.99   \n",
       "18     04/03/19 19:42      20 Hill St, Los Angeles, CA 90001      4  600.00   \n",
       "19     04/03/19 19:42      20 Hill St, Los Angeles, CA 90001      4   11.95   \n",
       "30     04/07/19 11:31      823 Highland St, Boston, MA 02215      4   99.99   \n",
       "...               ...                                    ...    ...     ...   \n",
       "11628  09/20/19 20:18          106 7th St, Atlanta, GA 30301      9    3.84   \n",
       "11639  09/16/19 00:25     241 Highland St, Atlanta, GA 30301      9   11.99   \n",
       "11640  09/16/19 00:25     241 Highland St, Atlanta, GA 30301      9    5.98   \n",
       "11677  09/30/19 13:49  519 Maple St, San Francisco, CA 94016      9  600.00   \n",
       "11678  09/30/19 13:49  519 Maple St, San Francisco, CA 94016      9   11.95   \n",
       "\n",
       "                 city  Hour  \n",
       "3         Los Angeles    14  \n",
       "4         Los Angeles    14  \n",
       "18        Los Angeles    19  \n",
       "19        Los Angeles    19  \n",
       "30             Boston    11  \n",
       "...               ...   ...  \n",
       "11628         Atlanta    20  \n",
       "11639         Atlanta     0  \n",
       "11640         Atlanta     0  \n",
       "11677   San Francisco    13  \n",
       "11678   San Francisco    13  \n",
       "\n",
       "[14649 rows x 10 columns]"
      ]
     },
     "execution_count": 163,
     "metadata": {},
     "output_type": "execute_result"
    }
   ],
   "source": [
    "df1"
   ]
  },
  {
   "cell_type": "code",
   "execution_count": 170,
   "id": "545d9821",
   "metadata": {},
   "outputs": [
    {
     "name": "stderr",
     "output_type": "stream",
     "text": [
      "<ipython-input-170-cb93daed8463>:1: SettingWithCopyWarning: \n",
      "A value is trying to be set on a copy of a slice from a DataFrame.\n",
      "Try using .loc[row_indexer,col_indexer] = value instead\n",
      "\n",
      "See the caveats in the documentation: https://pandas.pydata.org/pandas-docs/stable/user_guide/indexing.html#returning-a-view-versus-a-copy\n",
      "  df1['Grouped']=df1.groupby('Order ID')['Product'].transform(lambda x: ','.join(x))\n"
     ]
    }
   ],
   "source": [
    "df1['Grouped']=df1.groupby('Order ID')['Product'].transform(lambda x: ','.join(x))"
   ]
  },
  {
   "cell_type": "code",
   "execution_count": 172,
   "id": "9bee50c4",
   "metadata": {},
   "outputs": [
    {
     "data": {
      "text/plain": [
       "3                            Google Phone,Wired Headphones\n",
       "4                            Google Phone,Wired Headphones\n",
       "18                       Google Phone,USB-C Charging Cable\n",
       "19                       Google Phone,USB-C Charging Cable\n",
       "30       Bose SoundSport Headphones,Bose SoundSport Hea...\n",
       "                               ...                        \n",
       "11628         34in Ultrawide Monitor,AA Batteries (4-pack)\n",
       "11639              Wired Headphones,AAA Batteries (4-pack)\n",
       "11640              Wired Headphones,AAA Batteries (4-pack)\n",
       "11677                    Google Phone,USB-C Charging Cable\n",
       "11678                    Google Phone,USB-C Charging Cable\n",
       "Name: Grouped, Length: 14649, dtype: object"
      ]
     },
     "execution_count": 172,
     "metadata": {},
     "output_type": "execute_result"
    }
   ],
   "source": [
    "df1['Grouped']"
   ]
  },
  {
   "cell_type": "code",
   "execution_count": 173,
   "id": "cde56a75",
   "metadata": {},
   "outputs": [],
   "source": [
    "df2= df1.drop_duplicates(subset=['Order ID'])"
   ]
  },
  {
   "cell_type": "code",
   "execution_count": 239,
   "id": "c1968306",
   "metadata": {},
   "outputs": [
    {
     "data": {
      "text/plain": [
       "iPhone,Lightning Charging Cable         882\n",
       "Google Phone,USB-C Charging Cable       856\n",
       "iPhone,Wired Headphones                 361\n",
       "Vareebadd Phone,USB-C Charging Cable    312\n",
       "Google Phone,Wired Headphones           303\n",
       "Name: Grouped, dtype: int64"
      ]
     },
     "execution_count": 239,
     "metadata": {},
     "output_type": "execute_result"
    }
   ],
   "source": [
    "df2['Grouped'].value_counts()[0:5]"
   ]
  },
  {
   "cell_type": "code",
   "execution_count": 238,
   "id": "7d3b0884",
   "metadata": {},
   "outputs": [
    {
     "data": {
      "image/png": "[encoded data removed]",
      "text/plain": [
       "<Figure size 576x576 with 1 Axes>"
      ]
     },
     "metadata": {},
     "output_type": "display_data"
    }
   ],
   "source": [
    "# Obtenir les 5 premières valeurs\n",
    "top5 = df2['Grouped'].value_counts().head(5)\n",
    "\n",
    "# Créer le pie chart\n",
    "plt.figure(figsize=(8, 8))\n",
    "plt.pie(top5.values, labels=top5.index, autopct='%1.1f%%', startangle=90)\n",
    "\n",
    "# Ajouter un titre\n",
    "plt.title('Top 5 des combinaisons de produits les plus vendues')\n",
    "\n",
    "# Afficher le graphique\n",
    "plt.show()"
   ]
  },
  {
   "cell_type": "markdown",
   "id": "5b7c3d62",
   "metadata": {},
   "source": [
    "### Réponse"
   ]
  },
  {
   "cell_type": "code",
   "execution_count": 243,
   "id": "140c8549",
   "metadata": {},
   "outputs": [
    {
     "data": {
      "image/png": "[encoded data removed]",
      "text/plain": [
       "<Figure size 576x576 with 1 Axes>"
      ]
     },
     "metadata": {},
     "output_type": "display_data"
    }
   ],
   "source": [
    "plt.figure(figsize=(8, 8))\n",
    "plt.pie(top5.values, autopct='%1.1f%%', startangle=90)\n",
    "plt.legend(top5.index, title=\"Produits\", loc=\"center left\", bbox_to_anchor=(1, 0.5))\n",
    "plt.tight_layout()"
   ]
  },
  {
   "cell_type": "markdown",
   "id": "6da73e98",
   "metadata": {},
   "source": [
    "iPhone,Lightning Charging Cable "
   ]
  },
  {
   "cell_type": "code",
   "execution_count": null,
   "id": "f9da6c8e",
   "metadata": {},
   "outputs": [],
   "source": []
  },
  {
   "cell_type": "code",
   "execution_count": null,
   "id": "4d16c41f",
   "metadata": {},
   "outputs": [],
   "source": []
  }
 ],
 "metadata": {
  "kernelspec": {
   "display_name": "Python 3",
   "language": "python",
   "name": "python3"
  },
  "language_info": {
   "codemirror_mode": {
    "name": "ipython",
    "version": 3
   },
   "file_extension": ".py",
   "mimetype": "text/x-python",
   "name": "python",
   "nbconvert_exporter": "python",
   "pygments_lexer": "ipython3",
   "version": "3.8.8"
  },
  "varInspector": {
   "cols": {
    "lenName": 16,
    "lenType": 16,
    "lenVar": 40
   },
   "kernels_config": {
    "python": {
     "delete_cmd_postfix": "",
     "delete_cmd_prefix": "del ",
     "library": "var_list.py",
     "varRefreshCmd": "print(var_dic_list())"
    },
    "r": {
     "delete_cmd_postfix": ") ",
     "delete_cmd_prefix": "rm(",
     "library": "var_list.r",
     "varRefreshCmd": "cat(var_dic_list()) "
    }
   },
   "types_to_exclude": [
    "module",
    "function",
    "builtin_function_or_method",
    "instance",
    "_Feature"
   ],
   "window_display": false
  }
 },
 "nbformat": 4,
 "nbformat_minor": 5
}
